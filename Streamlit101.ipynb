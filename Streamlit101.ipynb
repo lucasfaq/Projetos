{
 "cells": [
  {
   "cell_type": "code",
   "execution_count": 13,
   "id": "1484d74d",
   "metadata": {},
   "outputs": [],
   "source": [
    "import pandas as pd\n",
    "from access_parser import AccessParser as ap\n",
    "import streamlit as st"
   ]
  },
  {
   "cell_type": "code",
   "execution_count": 14,
   "id": "1e2be5fb",
   "metadata": {},
   "outputs": [
    {
     "name": "stderr",
     "output_type": "stream",
     "text": [
      "INFO:DataBase version 2\n",
      "2021-09-15 17:18:05.129 DataBase version 2\n"
     ]
    }
   ],
   "source": [
    "bd_file = ap(\"Streamlit101.accdb\")\n",
    "tbl = bd_file.parse_table(\"Cliente\")\n",
    "df = pd.DataFrame(tbl)\n",
    "st.write(df)"
   ]
  },
  {
   "cell_type": "code",
   "execution_count": null,
   "id": "630bdc20",
   "metadata": {},
   "outputs": [],
   "source": []
  }
 ],
 "metadata": {
  "interpreter": {
   "hash": "99895b1fb5777b62bbca485c28947babc49174d82e5a9d257e359cdc2b435eee"
  },
  "kernelspec": {
   "display_name": "Python 3 (ipykernel)",
   "language": "python",
   "name": "python3"
  },
  "language_info": {
   "codemirror_mode": {
    "name": "ipython",
    "version": 3
   },
   "file_extension": ".py",
   "mimetype": "text/x-python",
   "name": "python",
   "nbconvert_exporter": "python",
   "pygments_lexer": "ipython3",
   "version": "3.9.6"
  }
 },
 "nbformat": 4,
 "nbformat_minor": 5
}
